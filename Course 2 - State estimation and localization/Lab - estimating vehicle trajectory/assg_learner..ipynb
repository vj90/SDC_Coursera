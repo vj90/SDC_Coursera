{
 "cells": [
  {
   "cell_type": "markdown",
   "metadata": {},
   "source": [
    "## Introduction\n",
    "-----\n",
    "\n",
    "In this assignment you will recursively estimate the position of a vehicle along a trajectory using available measurements and a motion model. \n",
    "\n",
    "The vehicle is equipped with a very simple type of LIDAR sensor, which returns range and bearing measurements corresponding to individual landmarks in the environment. The global positions of the landmarks are assumed to be known beforehand. We will also assume known data association, that is, which measurment belong to which landmark.\n",
    "\n",
    "## Motion and Measurement Models\n",
    "-----\n",
    "\n",
    "### Motion Model\n",
    "\n",
    "The vehicle motion model recieves linear and angular velocity odometry readings as inputs, and outputs the state (i.e., the 2D pose) of the vehicle:\n",
    "\n",
    "\\begin{align}\n",
    "\\mathbf{x}_{k} &= \\mathbf{x}_{k-1} + T\n",
    "\\begin{bmatrix}\n",
    "\\cos\\theta_{k-1} &0 \\\\\n",
    "\\sin\\theta_{k-1} &0 \\\\\n",
    "0 &1\n",
    "\\end{bmatrix}\n",
    "\\left(\n",
    "\\begin{bmatrix}\n",
    "v_k \\\\\n",
    "\\omega_k\n",
    "\\end{bmatrix}\n",
    "+ \\mathbf{w}_k\n",
    "\\right)\n",
    "\\, , \\, \\, \\, \\, \\, \\mathbf{w}_k = \\mathcal{N}\\left(\\mathbf{0}, \\mathbf{Q}\\right)\n",
    "\\end{align}\n",
    "\n",
    "- $\\mathbf{x}_k = \\left[ x \\, y \\, \\theta \\right]^T$ is the current 2D pose of the vehicle\n",
    "- $v_k$ and $\\omega_k$ are the linear and angular velocity odometry readings, which we use as inputs to the model\n",
    "\n",
    "The process noise $\\mathbf{w}_k$ has a (zero mean) normal distribution with a constant covariance $\\mathbf{Q}$.\n",
    "\n",
    "### Measurement Model\n",
    "\n",
    "The measurement model relates the current pose of the vehicle to the LIDAR range and bearing measurements $\\mathbf{y}^l_k = \\left[r \\, \\phi \\right]^T$.\n",
    "\n",
    "\\begin{align}\n",
    "\\mathbf{y}^l_k =\n",
    "\\begin{bmatrix}\n",
    "\\sqrt{(x_l - x_k - d\\cos\\theta_{k})^2 + (y_l - y_k - d\\sin\\theta_{k})^2} \\\\\n",
    "atan2\\left(y_l - y_k - d\\sin\\theta_{k},x_l - x_k - d\\cos\\theta_{k}\\right) - \\theta_k\n",
    "\\end{bmatrix}\n",
    "+\n",
    "\\mathbf{n}^l_k\n",
    "\\, , \\, \\, \\, \\, \\, \\mathbf{n}^l_k = \\mathcal{N}\\left(\\mathbf{0}, \\mathbf{R}\\right)\n",
    "\\end{align}\n",
    "\n",
    "- $x_l$ and $y_l$ are the ground truth coordinates of the landmark $l$\n",
    "- $x_k$ and $y_k$ and $\\theta_{k}$ represent the current pose of the vehicle\n",
    "- $d$ is the known distance between robot center and laser rangefinder (LIDAR)\n",
    "\n",
    "The landmark measurement noise $\\mathbf{n}^l_k$ has a (zero mean) normal distribution with a constant covariance $\\mathbf{R}$.\n",
    "\n",
    "## Getting Started\n",
    "-----\n",
    "\n",
    "Since the models above are nonlinear, we recommend using the extended Kalman filter (EKF) as the state estimator.\n",
    "Specifically, you will need to provide code implementing the following steps:\n",
    "- the prediction step, which uses odometry measurements and the motion model to produce a state and covariance estimate at a given timestep, and\n",
    "- the correction step, which uses the range and bearing measurements provided by the LIDAR to correct the pose and pose covariance estimates\n",
    "\n",
    "### Unpack the Data\n",
    "First, let's unpack the available data:"
   ]
  },
  {
   "cell_type": "code",
   "execution_count": 76,
   "metadata": {},
   "outputs": [],
   "source": [
    "import pickle\n",
    "import numpy as np\n",
    "import matplotlib.pyplot as plt\n",
    "\n",
    "with open('data/data.pickle', 'rb') as f:\n",
    "    data = pickle.load(f)\n",
    "\n",
    "t = data['t']  # timestamps [s]\n",
    "\n",
    "x_init  = data['x_init'] # initial x position [m]\n",
    "y_init  = data['y_init'] # initial y position [m]\n",
    "th_init = data['th_init'] # initial theta position [rad]\n",
    "\n",
    "# input signal\n",
    "v  = data['v']  # translational velocity input [m/s]\n",
    "om = data['om']  # rotational velocity input [rad/s]\n",
    "\n",
    "# bearing and range measurements, LIDAR constants\n",
    "b = data['b']  # bearing to each landmarks center in the frame attached to the laser [rad]\n",
    "r = data['r']  # range measurements [m]\n",
    "l = data['l']  # x,y positions of landmarks [m]\n",
    "d = data['d']  # distance between robot center and laser rangefinder [m]"
   ]
  },
  {
   "cell_type": "markdown",
   "metadata": {},
   "source": [
    "Note that distance from the LIDAR frame to the robot center is provided and loaded as an array into the `d` variable.\n",
    "\n",
    "### Ground Truth\n",
    "If available, it is useful to plot the ground truth position and orientation before starting the assignment.\n",
    "\n",
    "<table><tr>\n",
    "<td> <img src=\"data/gtruth.png\" alt=\"Ground Truth\" width=\"350\"/> </td>\n",
    "<td> <img src=\"data/gtruth2.png\" alt=\"Ground Truth\" width=\"350\"/> </td>\n",
    "</tr></table>\n",
    "\n",
    "Notice that the orientation values are wrapped to the $\\left[-\\pi,\\pi\\right]$ range in radians."
   ]
  },
  {
   "cell_type": "markdown",
   "metadata": {},
   "source": [
    "### Initializing Parameters\n",
    "\n",
    "Now that our data is loaded, we can begin getting things set up for our solver. One of the\n",
    "most important aspects of designing a filter is determining the input and measurement noise covariance matrices, as well as the initial state and covariance values. We set the values here:"
   ]
  },
  {
   "cell_type": "code",
   "execution_count": 273,
   "metadata": {},
   "outputs": [],
   "source": [
    "v_var = 0.01  # translation velocity variance  #0.01\n",
    "om_var = 0.01  # rotational velocity variance #0.01\n",
    "r_var = 0.1  # range measurements variance # 0.1\n",
    "b_var = 0.1  # bearing measurement variance #0.1 #best 0.01\n",
    "\n",
    "Q_km = np.diag([v_var, om_var]) # input noise covariance \n",
    "cov_y = np.diag([r_var, b_var])  # measurement noise covariance \n",
    "\n",
    "x_est = np.zeros([len(v), 3])  # estimated states, x, y, and theta\n",
    "P_est = np.zeros([len(v), 3, 3])  # state covariance matrices\n",
    "\n",
    "x_est[0] = np.array([x_init, y_init, th_init]) # initial state\n",
    "P_est[0] = np.diag([1, 1, 0.1]) # initial state covariance"
   ]
  },
  {
   "cell_type": "markdown",
   "metadata": {},
   "source": [
    "**Remember:** that it is neccessary to tune the measurement noise variances `r_var`, `b_var` in order for the filter to perform well!\n",
    "\n",
    "In order for the orientation estimates to coincide with the bearing measurements, it is also neccessary to wrap all estimated $\\theta$ values to the $(-\\pi , \\pi]$ range."
   ]
  },
  {
   "cell_type": "code",
   "execution_count": 257,
   "metadata": {},
   "outputs": [],
   "source": [
    "# Wraps angle to (-pi,pi] range\n",
    "def wraptopi(x):\n",
    "    y = x.copy()\n",
    "    if x > np.pi:\n",
    "        x = x - (np.floor(x / (2 * np.pi)) + 1) * 2 * np.pi\n",
    "    elif x < -np.pi:\n",
    "        x = x + (np.floor(x / (-2 * np.pi)) + 1) * 2 * np.pi\n",
    "    #print('Wrapping ',y,' ---> ',x)\n",
    "    return x"
   ]
  },
  {
   "cell_type": "markdown",
   "metadata": {},
   "source": [
    "\n",
    "## Correction Step\n",
    "-----\n",
    "First, let's implement the measurement update function, which takes an available landmark measurement $l$ and updates the current state estimate $\\mathbf{\\check{x}}_k$.\n",
    "For each landmark measurement received at a given timestep $k$, you should implement the following steps:\n",
    "\n",
    "- Compute the measurement model Jacobians at $\\mathbf{\\check{x}}_{k}$\n",
    "\\begin{align}\n",
    "\\mathbf{y}^l_k = &\\mathbf{h}(\\mathbf{x}_{k}, \\mathbf{n}^l_k) \\\\\\\\\n",
    "\\mathbf{H}_{k} = \\frac{\\partial \\mathbf{h}}{\\partial \\mathbf{x}_{k}}\\bigg|_{\\mathbf{\\check{x}}_{k},0}& \\, , \\, \\, \\, \\,\n",
    "\\mathbf{M}_{k} = \\frac{\\partial \\mathbf{h}}{\\partial \\mathbf{n}_{k}}\\bigg|_{\\mathbf{\\check{x}}_{k},0} \\, .\n",
    "\\end{align}\n",
    "- Compute the Kalman Gain\n",
    "\\begin{align}\n",
    "\\mathbf{K}_k &= \\mathbf{\\check{P}}_k \\mathbf{H}_k^T \\left(\\mathbf{H}_k \\mathbf{\\check{P}}_k \\mathbf{H}_k^T + \\mathbf{M}_k \\mathbf{R}_k \\mathbf{M}_k^T \\right)^{-1} \n",
    "\\end{align}\n",
    "- Correct the predicted state\n",
    "\\begin{align}\n",
    "\\mathbf{\\check{y}}^l_k &= \\mathbf{h}\\left(\\mathbf{\\check{x}}_k, \\mathbf{0}\\right) \\\\\n",
    "\\mathbf{\\hat{x}}_k &= \\mathbf{\\check{x}}_k + \\mathbf{K}_k \\left(\\mathbf{y}^l_k - \\mathbf{\\check{y}}^l_k\\right)\n",
    "\\end{align}\n",
    "- Correct the covariance\n",
    "\\begin{align}\n",
    "\\mathbf{\\hat{P}}_k &= \\left(\\mathbf{I} - \\mathbf{K}_k \\mathbf{H}_k \\right)\\mathbf{\\check{P}}_k\n",
    "\\end{align}"
   ]
  },
  {
   "cell_type": "code",
   "execution_count": 258,
   "metadata": {},
   "outputs": [],
   "source": [
    "def measurement_update(lk, rk, bk, P_check, x_check):\n",
    "    dk = d[0]\n",
    "    \n",
    "    # 1. Compute measurement Jacobian\n",
    "    def H(lk,x_check):\n",
    "        xl = lk[0]\n",
    "        yl = lk[1]\n",
    "        #print('bk = ',bk)\n",
    "        px = x_check[0,0]\n",
    "        py = x_check[1,0]\n",
    "        pth = x_check[2,0]\n",
    "        rx = (xl-px-dk*np.cos(pth))\n",
    "        ry = (yl-py-dk*np.sin(pth))\n",
    "        prange = np.hypot(rx,ry)\n",
    "        df1_dx = -rx/prange\n",
    "        df1_dy = -ry/prange\n",
    "        df1_dth = (dk*rx*np.sin(pth)-dk*ry*np.cos(pth))/prange\n",
    "        # Hoping rx is never 0\n",
    "        pb = np.arctan2(ry,rx)\n",
    "        #print('pth = ',pth)\n",
    "        #print('pb = ',pth)\n",
    "        pbdiv = ry/rx\n",
    "        #print('rx=',rx)\n",
    "        #print('ry=',ry)\n",
    "        #print('Sending to wrap to pi 2')\n",
    "        pbearing = wraptopi(pb - pth)\n",
    "        #print('pbearing = ', pbearing)\n",
    "        dtan = 1/(1 + pbdiv*pbdiv)\n",
    "        df2_dx = dtan*ry/(rx*rx)\n",
    "        df2_dy = dtan*-1/rx\n",
    "        df2_dth = dtan*(-dk*np.cos(pth)/rx + -ry/(rx*rx)*dk*np.sin(pth))-1\n",
    "        p0 = np.mat([[df1_dx,df1_dy,df1_dth],[df2_dx,df2_dy,df2_dth]])\n",
    "        return np.mat([[df1_dx,df1_dy,df1_dth],[df2_dx,df2_dy,df2_dth]]),np.array([[prange],[pbearing]])\n",
    "                        \n",
    "    Hk,yk = H(lk,x_check)\n",
    "    #print('H:\\n',Hk)\n",
    "    Mk = np.eye(2)\n",
    "    # 2. Compute Kalman Gain\n",
    "    Kk = P_check.dot(Hk.T).dot(np.linalg.inv(Hk.dot(P_check).dot(Hk.T)+Mk.dot(cov_y).dot(Mk.T)))\n",
    "    #print('K:\\n',Kk)\n",
    "    # 3. Correct predicted state (remember to wrap the angles to [-pi,pi])\n",
    "    #print('Sending to wrap to pi 3')\n",
    "    yk_meas = np.array([[rk],[wraptopi(bk)]])\n",
    "    #print('Measured y:\\n',yk_meas,'\\nvs calculated y:\\n',yk)\n",
    "    #print('X before update:\\n',x_check)\n",
    "    # Important -> also wrap the delta of the angle before applying gain\n",
    "    delta_yk = yk_meas-yk\n",
    "    #print('Sending to wrap to pi 3.5')\n",
    "    delta_yk[1,0] = wraptopi(delta_yk[1,0])\n",
    "    #print('delta yk = \\n',delta_yk[1,0])\n",
    "    x_check = x_check + Kk.dot(delta_yk)\n",
    "    #print('Sending to wrap to pi 4')\n",
    "    x_check[2,0] = wraptopi(x_check[2,0])\n",
    "    #print('X after update:\\n',x_check)\n",
    "\n",
    "    # 4. Correct covariance\n",
    "    P_check = (np.eye(3) - Kk.dot(Hk)).dot(P_check)\n",
    "\n",
    "    return x_check, P_check\n"
   ]
  },
  {
   "cell_type": "markdown",
   "metadata": {},
   "source": [
    "## Prediction Step\n",
    "-----\n",
    "Now, implement the main filter loop, defining the prediction step of the EKF using the motion model provided:\n",
    "\n",
    "\\begin{align}\n",
    "\\mathbf{\\check{x}}_k &= \\mathbf{f}\\left(\\mathbf{\\hat{x}}_{k-1}, \\mathbf{u}_{k-1}, \\mathbf{0} \\right) \\\\\n",
    "\\mathbf{\\check{P}}_k &= \\mathbf{F}_{k-1}\\mathbf{\\hat{P}}_{k-1}\\mathbf{F}_{k-1}^T + \\mathbf{L}_{k-1}\\mathbf{Q}_{k-1}\\mathbf{L}_{k-1}^T \\, .\n",
    "\\end{align}\n",
    "\n",
    "Where\n",
    "\n",
    "\\begin{align}\n",
    "\\mathbf{F}_{k-1} = \\frac{\\partial \\mathbf{f}}{\\partial \\mathbf{x}_{k-1}}\\bigg|_{\\mathbf{\\hat{x}}_{k-1},\\mathbf{u}_{k},0}  \\, , \\, \\, \\, \\,\n",
    "\\mathbf{L}_{k-1} = \\frac{\\partial \\mathbf{f}}{\\partial \\mathbf{w}_{k}}\\bigg|_{\\mathbf{\\hat{x}}_{k-1},\\mathbf{u}_{k},0} \\, .\n",
    "\\end{align}"
   ]
  },
  {
   "cell_type": "code",
   "execution_count": 259,
   "metadata": {
    "scrolled": false
   },
   "outputs": [],
   "source": [
    "#### 5. Main Filter Loop #######################################################################\n",
    "def main_loop():\n",
    "    for k in range(1, len(t)):  # start at 1 because we've set the initial prediciton len(t)\n",
    "\n",
    "        delta_t = t[k] - t[k - 1]  # time step (difference between timestamps)\n",
    "        #print('delta t = ', delta_t)\n",
    "\n",
    "        # 1. Update state with odometry readings (remember to wrap the angles to [-pi,pi])\n",
    "        x_check = np.zeros([3,1])\n",
    "        #print(np.sin(x_est[k-1, 2]))\n",
    "        x_check[0] = x_est[k-1,0] +  v[k-1]*np.cos(x_est[k-1, 2])*delta_t \n",
    "        x_check[1] = x_est[k-1,1] +  v[k-1]*np.sin(x_est[k-1, 2])*delta_t \n",
    "        #print('Sending to wrap to pi 1')\n",
    "        x_check[2] = wraptopi(x_est[k-1,2] +  om[k-1] *delta_t)\n",
    "        #print('inputs at time ',k,': v-',v[k-1], ', omega-',om[k-1] )\n",
    "        #print('Predicted x from motion model at time ',k,\":\\n\",x_check)\n",
    "\n",
    "\n",
    "        # 2. Motion model jacobian with respect to last state\n",
    "        def F(v,th):\n",
    "            return np.mat([[1,0,-v*np.sin(th)*delta_t],[0,1,v*np.cos(th)*delta_t],[0,0,1]])\n",
    "        F_km = F(v[k-1],x_est[k-1, 2])\n",
    "        #print('F: \\n',F_km)\n",
    "\n",
    "        # 3. Motion model jacobian with respect to noise\n",
    "        def L(th):\n",
    "            return np.mat([[np.cos(th)*delta_t, 0],[np.sin(th)*delta_t, 0],[0,delta_t]])\n",
    "        L_km = L(x_est[k-1, 2])\n",
    "        #print('L: \\n',L_km)\n",
    "\n",
    "        # 4. Propagate uncertainty\n",
    "        P_check = P_est[k-1, :, :]\n",
    "        #print('P before prop:\\n',P_check)\n",
    "        P_check = F_km.dot(P_check).dot(F_km.T) + L_km.dot(Q_km).dot(L_km.T)\n",
    "        #print('P after prop:\\n',P_check)\n",
    "        # 5. Update state estimate using available landmark measurements\n",
    "        #print('-_-_-_-_-_-_-_-_-_-_-_-_-_-_-_-_')\n",
    "        for i in range(len(r[k])):\n",
    "            x_check, P_check = measurement_update(l[i], r[k, i], b[k, i], P_check, x_check)\n",
    "\n",
    "        # Set final state predictions for timestep\n",
    "        x_est[k, 0] = x_check[0]\n",
    "        x_est[k, 1] = x_check[1]\n",
    "        x_est[k, 2] = x_check[2]\n",
    "        P_est[k, :, :] = P_check   \n",
    "    #print(x_est[1:20])\n",
    "main_loop()"
   ]
  },
  {
   "cell_type": "markdown",
   "metadata": {},
   "source": [
    "Let's plot the resulting state estimates:"
   ]
  },
  {
   "cell_type": "code",
   "execution_count": 260,
   "metadata": {},
   "outputs": [],
   "source": [
    "# Temporarily turn of state estimation to also print results of purely model based trajectory\n",
    "#x_est_bkp = x_est.copy()\n",
    "# Create the curve\n",
    "test_offset = 3.14/2\n",
    "a_start = 0 + test_offset\n",
    "b_start = 2*3.14 +test_offset\n",
    "test_f = 0.012575\n",
    "test_m = test_f*t + test_offset\n",
    "test_x = 50.0*np.sin(test_m)\n",
    "test_y = -50.0*np.sin(test_m)*np.cos(test_m)\n",
    "test_lam = np.arctan2(-np.cos(test_m)*np.cos(test_m)+np.sin(test_m)*np.sin(test_m),np.cos(test_m))\n"
   ]
  },
  {
   "cell_type": "code",
   "execution_count": 263,
   "metadata": {},
   "outputs": [
    {
     "name": "stdout",
     "output_type": "stream",
     "text": [
      "(0.1026177837686369, 0.48413184528834335)\n",
      "(0.11822501041040881, 0.3964502741205383)\n"
     ]
    }
   ],
   "source": [
    "def rms_error(x_ref,y_ref,th_ref,x_est):\n",
    "    del_x = x_ref -  x_est[:, 0]\n",
    "    del_x = del_x*del_x\n",
    "    del_y = y_ref -  x_est[:, 1]\n",
    "    del_y = del_y*del_y\n",
    "    del_xy = (del_x + del_y)**0.5\n",
    "    rms_xy = np.sqrt((del_xy**2).mean())\n",
    "    rms_th = np.sqrt(((th_ref -  x_est[:, 2]) ** 2).mean())\n",
    "    return rms_xy,rms_th\n",
    "\n",
    "print(rms_error(test_x,test_y,test_lam,x_est))\n",
    "print(rms_error(test_x,test_y,test_lam,x_est_bkp))"
   ]
  },
  {
   "cell_type": "code",
   "execution_count": 290,
   "metadata": {},
   "outputs": [
    {
     "name": "stdout",
     "output_type": "stream",
     "text": [
      "10\n",
      "0.01\n",
      "(0.09455457191658355, 0.2805263783022981)\n",
      "0.02\n",
      "(0.09455457191658355, 0.2805263783022981)\n",
      "0.03\n",
      "(0.09455457191658355, 0.2805263783022981)\n",
      "0.04\n",
      "(0.09455457191658355, 0.2805263783022981)\n",
      "0.05\n",
      "(0.09455457191658355, 0.2805263783022981)\n",
      "0.060000000000000005\n",
      "(0.09455457191658355, 0.2805263783022981)\n",
      "0.06999999999999999\n",
      "(0.09455457191658355, 0.2805263783022981)\n",
      "0.08\n",
      "(0.09455457191658355, 0.2805263783022981)\n",
      "0.09\n",
      "(0.09455457191658355, 0.2805263783022981)\n"
     ]
    }
   ],
   "source": [
    "v_var_vec = np.arange(0.01,0.1,0.01)  # translation velocity variance  #0.01\n",
    "om_var_vec = np.arange(0.01,0.02,0.001)  # rotational velocity variance #0.01\n",
    "r_var_vec = np.arange(0.005,0.01,0.001)  # range measurements variance # 0.1\n",
    "b_var_vec = np.arange(0.005,0.2,0.005)  # bearing measurement variance #0.1 #best 0.01\n",
    "print(len(om_var_vec))\n",
    "for k in v_var_vec:\n",
    "    Q_km = np.diag([0.01, 0.018]) # input noise covariance \n",
    "    cov_y = np.diag([0.006, 0.035])  # measurement noise covariance \n",
    "    main_loop()\n",
    "    print(k)\n",
    "    print(rms_error(test_x,test_y,test_lam,x_est))"
   ]
  },
  {
   "cell_type": "code",
   "execution_count": 294,
   "metadata": {
    "scrolled": false
   },
   "outputs": [
    {
     "data": {
      "image/png": "[encoded data removed]",
      "text/plain": [
       "<Figure size 432x288 with 1 Axes>"
      ]
     },
     "metadata": {
      "needs_background": "light"
     },
     "output_type": "display_data"
    },
    {
     "data": {
      "image/png": "[encoded data removed]",
      "text/plain": [
       "<Figure size 432x288 with 1 Axes>"
      ]
     },
     "metadata": {
      "needs_background": "light"
     },
     "output_type": "display_data"
    }
   ],
   "source": [
    "e_fig = plt.figure()\n",
    "ax = e_fig.add_subplot(111)\n",
    "start_pt = 0\n",
    "end_pt = 50\n",
    "ax.plot(x_est[start_pt:end_pt, 0], x_est[start_pt:end_pt, 1])\n",
    "#ax.plot(x_est_bkp[start_pt:end_pt, 0], x_est_bkp[start_pt:end_pt, 1])\n",
    "ax.plot(test_x[start_pt:end_pt], test_y[start_pt:end_pt])\n",
    "ax.set_xlabel('x [m]')\n",
    "ax.set_ylabel('y [m]')\n",
    "ax.set_title('Estimated trajectory')\n",
    "plt.show()\n",
    "\n",
    "e_fig = plt.figure()\n",
    "ax = e_fig.add_subplot(111)\n",
    "ax.plot(t[start_pt:end_pt], x_est[start_pt:end_pt,2])\n",
    "#ax.plot(t[start_pt:end_pt], x_est_bkp[start_pt:end_pt, 2])\n",
    "ax.plot(t[start_pt:end_pt],test_lam[start_pt:end_pt])\n",
    "ax.set_xlabel('Time [s]')\n",
    "ax.set_ylabel('theta [rad]')\n",
    "ax.set_title('Estimated trajectory')\n",
    "plt.show()"
   ]
  },
  {
   "cell_type": "code",
   "execution_count": 295,
   "metadata": {},
   "outputs": [],
   "source": [
    "with open('submission.pkl', 'wb') as f:\n",
    "    pickle.dump(x_est, f, pickle.HIGHEST_PROTOCOL)"
   ]
  },
  {
   "cell_type": "code",
   "execution_count": null,
   "metadata": {},
   "outputs": [],
   "source": []
  }
 ],
 "metadata": {
  "kernelspec": {
   "display_name": "Python 3",
   "language": "python",
   "name": "python3"
  },
  "language_info": {
   "codemirror_mode": {
    "name": "ipython",
    "version": 3
   },
   "file_extension": ".py",
   "mimetype": "text/x-python",
   "name": "python",
   "nbconvert_exporter": "python",
   "pygments_lexer": "ipython3",
   "version": "3.7.1"
  }
 },
 "nbformat": 4,
 "nbformat_minor": 1
}
